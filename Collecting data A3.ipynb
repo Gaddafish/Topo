{
 "cells": [
  {
   "cell_type": "code",
   "execution_count": 25,
   "id": "e13e9537",
   "metadata": {},
   "outputs": [],
   "source": [
    "import pandas as pd"
   ]
  },
  {
   "cell_type": "code",
   "execution_count": 26,
   "id": "8f83a2d0",
   "metadata": {},
   "outputs": [],
   "source": [
    "import requests"
   ]
  },
  {
   "cell_type": "code",
   "execution_count": 27,
   "id": "08d4b7c0",
   "metadata": {},
   "outputs": [],
   "source": [
    "from bs4 import BeautifulSoup"
   ]
  },
  {
   "cell_type": "code",
   "execution_count": 28,
   "id": "820f81c8",
   "metadata": {
    "scrolled": true
   },
   "outputs": [
    {
     "name": "stdout",
     "output_type": "stream",
     "text": [
      "\n",
      "\"Roll With It\" lyricsOasis Lyrics\n",
      "\"Roll With It\"\n",
      "\r\n",
      "You gotta roll with it\n",
      "You gotta take your time\n",
      "You gotta say what you say\n",
      "Don't let anybody get in your way\n",
      "'Cause it's all too much for me to takeDon't ever stand aside\n",
      "Don't ever be denied\n",
      "You wanna be who you'd be\n",
      "If you're coming with me\n",
      "I think I've got a feeling I've lost inside\n",
      "I think I'm gonna take me away and hide\n",
      "I'm thinking of things that I just can't abideI know the roads down which your life will drive (Life will drive)\n",
      "I'll find the key that lets you slip inside (Slip inside)\n",
      "Kiss the girl, she's not behind the door (Behind the door)\n",
      "But you know I think I recognize your face\n",
      "But I've never seen you beforeYou've gotta roll with it\n",
      "You've gotta take your time\n",
      "You gotta say what you say\n",
      "Don't let anybody get in your way\n",
      "'Cause it's all too much for me to takeI know the roads down which your life will drive (Life will drive)\n",
      "I'll find the key that lets you slip inside (Slip inside)\n",
      "Kiss the girl, she's not behind the door (Behind the door)\n",
      "But you know I think I recognize your face\n",
      "But I've never seen you beforeYou gotta roll with it\n",
      "You gotta take your time\n",
      "You gotta say what you say\n",
      "Don't let anybody get in your way\n",
      "'Cause it's all too much for me to takeDon't ever stand aside\n",
      "Don't ever be denied\n",
      "You wanna be who you'd be\n",
      "If you're coming with me\n",
      "I think I've got a feeling I've lost inside (Take me away)\n",
      "I think I've got a feeling I've lost inside (Take me away)\n",
      "I think I've got a feeling I've lost inside (Take me away)I think I've got a feeling I've lost inside (Take me away)\n",
      "I think I've got a feeling I've lost inside (Take me away)\n",
      "I think I've got a feeling I've lost inside (Take me away)\n",
      "I think I've got a feeling I've lost inside (Take me away)\n",
      "I think I've got a feeling I've lost inside (Take me away)\n",
      "I think I've got a feeling I've lost inside (Take me away)\n",
      "I think I've got a feeling I've lost inside (Take me away)\n",
      "I think I've got a feeling I've lost inside (Take me away) \n"
     ]
    }
   ],
   "source": [
    "response = requests.get(\"https://www.azlyrics.com/lyrics/oasis/rollwithit.html\")\n",
    "html_string = response.text\n",
    "document = BeautifulSoup(html_string, \"html.parser\")\n",
    "text1 = document.find('div', attrs='col-xs-12 col-lg-8 text-center').text.replace('\\\\','').replace('\\n\\n','')\n",
    "first_str = \"Submit Corrections\"\n",
    "head, sep, tail = text1.partition(first_str)\n",
    "clean_str = head\n",
    "print(clean_str)"
   ]
  },
  {
   "cell_type": "code",
   "execution_count": 29,
   "id": "45088a0e",
   "metadata": {},
   "outputs": [
    {
     "data": {
      "text/plain": [
       "'Oasis'"
      ]
     },
     "execution_count": 29,
     "metadata": {},
     "output_type": "execute_result"
    }
   ],
   "source": [
    "artist = document.find('b').text.replace(' Lyrics','')\n",
    "artist"
   ]
  },
  {
   "cell_type": "code",
   "execution_count": 30,
   "id": "7c0d9b46",
   "metadata": {},
   "outputs": [
    {
     "data": {
      "text/plain": [
       "'\"Roll With It\"'"
      ]
     },
     "execution_count": 30,
     "metadata": {},
     "output_type": "execute_result"
    }
   ],
   "source": [
    "title = document.find('h1').text.replace(' lyrics', '')\n",
    "title"
   ]
  },
  {
   "cell_type": "code",
   "execution_count": 32,
   "id": "3ad7dcb6",
   "metadata": {},
   "outputs": [],
   "source": [
    "pd.set_option('display.max_colwidth', None)"
   ]
  },
  {
   "cell_type": "code",
   "execution_count": 50,
   "id": "89823023",
   "metadata": {},
   "outputs": [],
   "source": [
    "def banana(website):\n",
    "    response = requests.get(website)\n",
    "    html_string = response.text\n",
    "    document = BeautifulSoup(html_string, \"html.parser\")\n",
    "    artist = document.find('b').text.replace(' Lyrics', '')\n",
    "    title = document.find('h1').text.replace(' lyrics', '')\n",
    "    lyrics = document.find('div', attrs='col-xs-12 col-lg-8 text-center').text.replace('\\\\','').replace('\\n','')\n",
    "    first_str = \"Submit Corrections\"\n",
    "    head, sep, tail = lyrics.partition(first_str)\n",
    "    clean_str = head\n",
    "    second_str = '\\r'\n",
    "    head, seq, tail = clean_str.partition(second_str)\n",
    "    lyrics = tail\n",
    "    row_n = pd.DataFrame({'Artist':[artist], 'Title':[title], 'Lyrics':[lyrics]})\n",
    "    return row_n"
   ]
  },
  {
   "cell_type": "code",
   "execution_count": 33,
   "id": "fbd10b37",
   "metadata": {},
   "outputs": [
    {
     "data": {
      "text/html": [
       "<div>\n",
       "<style scoped>\n",
       "    .dataframe tbody tr th:only-of-type {\n",
       "        vertical-align: middle;\n",
       "    }\n",
       "\n",
       "    .dataframe tbody tr th {\n",
       "        vertical-align: top;\n",
       "    }\n",
       "\n",
       "    .dataframe thead th {\n",
       "        text-align: right;\n",
       "    }\n",
       "</style>\n",
       "<table border=\"1\" class=\"dataframe\">\n",
       "  <thead>\n",
       "    <tr style=\"text-align: right;\">\n",
       "      <th></th>\n",
       "      <th>Artist</th>\n",
       "      <th>Title</th>\n",
       "      <th>Lyrics</th>\n",
       "    </tr>\n",
       "  </thead>\n",
       "  <tbody>\n",
       "    <tr>\n",
       "      <th>0</th>\n",
       "      <td>Oasis</td>\n",
       "      <td>\"Some Might Say\"</td>\n",
       "      <td>Some might say that sunshine follows thunderGo and tell it to the man who cannot shineSome might say that we should never ponderOn our thoughts today 'cause they hold sway over timeSome might say we will find a brighter daySome might say we will find a brighter day'Cause I've been standing at the stationIn need of education in the rainYou made no preparationFor my reputation once againThe sink is full of fishesShe's got dirty dishes on the brainIt was overflowing gentlyBut it's all elementary my friendSome might say they don't believe in heavenGo and tell it to the man who lives in hellSome might say you get what you've been givenIf you don't get yours I won't get mine as wellSome might say we will find a brighter daySome might say we will find a brighter day'Cause I've been standing at the stationIn need of education in the rainThat made no preparationFor my reputation once againThe sink is full of fishesShe's got dirty dishes on the brainAnd my dog's been itchingItching in the kitchen once againSome might say (Some might say)Some might say (Some might say)You know what some might say (You know what some might say)You know what some might say (You know what some might say)You know what some might say (You know what some might say)You know what some might say (You know what some might say)You know what some might say (You know what some might say)You know what some might say (You know what some might say)You know what some might say (You know what some might say)You know what some might say (You know what some might say)(Woo!)</td>\n",
       "    </tr>\n",
       "  </tbody>\n",
       "</table>\n",
       "</div>"
      ],
      "text/plain": [
       "  Artist             Title  \\\n",
       "0  Oasis  \"Some Might Say\"   \n",
       "\n",
       "                                                                                                                                                                                                                                                                                                                                                                                                                                                                                                                                                                                                                                                                                                                                                                                                                                                                                                                                                                                                                                                                                                                                                                                                                                                                                                                                                                                                                                                                                                                                                                                                              Lyrics  \n",
       "0  Some might say that sunshine follows thunderGo and tell it to the man who cannot shineSome might say that we should never ponderOn our thoughts today 'cause they hold sway over timeSome might say we will find a brighter daySome might say we will find a brighter day'Cause I've been standing at the stationIn need of education in the rainYou made no preparationFor my reputation once againThe sink is full of fishesShe's got dirty dishes on the brainIt was overflowing gentlyBut it's all elementary my friendSome might say they don't believe in heavenGo and tell it to the man who lives in hellSome might say you get what you've been givenIf you don't get yours I won't get mine as wellSome might say we will find a brighter daySome might say we will find a brighter day'Cause I've been standing at the stationIn need of education in the rainThat made no preparationFor my reputation once againThe sink is full of fishesShe's got dirty dishes on the brainAnd my dog's been itchingItching in the kitchen once againSome might say (Some might say)Some might say (Some might say)You know what some might say (You know what some might say)You know what some might say (You know what some might say)You know what some might say (You know what some might say)You know what some might say (You know what some might say)You know what some might say (You know what some might say)You know what some might say (You know what some might say)You know what some might say (You know what some might say)You know what some might say (You know what some might say)(Woo!)   "
      ]
     },
     "execution_count": 33,
     "metadata": {},
     "output_type": "execute_result"
    }
   ],
   "source": [
    "banana(\"https://www.azlyrics.com/lyrics/oasis/somemightsay.html\")"
   ]
  },
  {
   "cell_type": "code",
   "execution_count": 71,
   "id": "78c9eec4",
   "metadata": {
    "scrolled": true
   },
   "outputs": [],
   "source": [
    "def banana_tree(website1, website2, website3):\n",
    "    #songs_list = list(website1, website2, website3)\n",
    "    row_ini=banana(website1)\n",
    "    for song_url in songs_list:\n",
    "        row_ini = pd.concat([row_ini,banana(song_url)], ignore_index=True)\n",
    "    return row_ini"
   ]
  },
  {
   "cell_type": "code",
   "execution_count": 72,
   "id": "cf2967ac",
   "metadata": {},
   "outputs": [
    {
     "data": {
      "text/html": [
       "<div>\n",
       "<style scoped>\n",
       "    .dataframe tbody tr th:only-of-type {\n",
       "        vertical-align: middle;\n",
       "    }\n",
       "\n",
       "    .dataframe tbody tr th {\n",
       "        vertical-align: top;\n",
       "    }\n",
       "\n",
       "    .dataframe thead th {\n",
       "        text-align: right;\n",
       "    }\n",
       "</style>\n",
       "<table border=\"1\" class=\"dataframe\">\n",
       "  <thead>\n",
       "    <tr style=\"text-align: right;\">\n",
       "      <th></th>\n",
       "      <th>Artist</th>\n",
       "      <th>Title</th>\n",
       "      <th>Lyrics</th>\n",
       "    </tr>\n",
       "  </thead>\n",
       "  <tbody>\n",
       "    <tr>\n",
       "      <th>0</th>\n",
       "      <td>Oasis</td>\n",
       "      <td>\"Some Might Say\"</td>\n",
       "      <td>Some might say that sunshine follows thunderGo and tell it to the man who cannot shineSome might say that we should never ponderOn our thoughts today 'cause they hold sway over timeSome might say we will find a brighter daySome might say we will find a brighter day'Cause I've been standing at the stationIn need of education in the rainYou made no preparationFor my reputation once againThe sink is full of fishesShe's got dirty dishes on the brainIt was overflowing gentlyBut it's all elementary my friendSome might say they don't believe in heavenGo and tell it to the man who lives in hellSome might say you get what you've been givenIf you don't get yours I won't get mine as wellSome might say we will find a brighter daySome might say we will find a brighter day'Cause I've been standing at the stationIn need of education in the rainThat made no preparationFor my reputation once againThe sink is full of fishesShe's got dirty dishes on the brainAnd my dog's been itchingItching in the kitchen once againSome might say (Some might say)Some might say (Some might say)You know what some might say (You know what some might say)You know what some might say (You know what some might say)You know what some might say (You know what some might say)You know what some might say (You know what some might say)You know what some might say (You know what some might say)You know what some might say (You know what some might say)You know what some might say (You know what some might say)You know what some might say (You know what some might say)(Woo!)</td>\n",
       "    </tr>\n",
       "    <tr>\n",
       "      <th>1</th>\n",
       "      <td>Oasis</td>\n",
       "      <td>\"Some Might Say\"</td>\n",
       "      <td>Some might say that sunshine follows thunderGo and tell it to the man who cannot shineSome might say that we should never ponderOn our thoughts today 'cause they hold sway over timeSome might say we will find a brighter daySome might say we will find a brighter day'Cause I've been standing at the stationIn need of education in the rainYou made no preparationFor my reputation once againThe sink is full of fishesShe's got dirty dishes on the brainIt was overflowing gentlyBut it's all elementary my friendSome might say they don't believe in heavenGo and tell it to the man who lives in hellSome might say you get what you've been givenIf you don't get yours I won't get mine as wellSome might say we will find a brighter daySome might say we will find a brighter day'Cause I've been standing at the stationIn need of education in the rainThat made no preparationFor my reputation once againThe sink is full of fishesShe's got dirty dishes on the brainAnd my dog's been itchingItching in the kitchen once againSome might say (Some might say)Some might say (Some might say)You know what some might say (You know what some might say)You know what some might say (You know what some might say)You know what some might say (You know what some might say)You know what some might say (You know what some might say)You know what some might say (You know what some might say)You know what some might say (You know what some might say)You know what some might say (You know what some might say)You know what some might say (You know what some might say)(Woo!)</td>\n",
       "    </tr>\n",
       "    <tr>\n",
       "      <th>2</th>\n",
       "      <td>Oasis</td>\n",
       "      <td>\"Hello\"</td>\n",
       "      <td>I don't feel as if I know youYou take up all my timeThe days are long and the nights will throw you away'Cause the sun don't shineNobody ever mentions the weatherCan make or break your dayNobody ever seems to rememberLife is a game we playWe live in the shadows and weHad the chance and threw it awayAnd it's never gonna be the same'Cause the years are falling by like the rainIt's never gonna be the same'Til the life I knew comes to my house and saysHelloThere ain't no sense in feeling lonelyYou got no faith in youBut I've got a feeling you still owe meSo wipe the shit from your shoesNobody ever mentions the weatherCan make or break your dayNobody ever seems to rememberLife is a game we playWe live in the shadows and weHad the chance and threw it awayAnd it's never gonna be the same'Cause the years are falling by like the rainIt's never gonna be the same'Til the life I knew comes to my house and saysHello, helloIt's good to be back, it's good to be backHello, helloIt's good to be back, it's good to be backHello, helloIt's good to be back, it's good to be backHello, hello, hello</td>\n",
       "    </tr>\n",
       "    <tr>\n",
       "      <th>3</th>\n",
       "      <td>Oasis</td>\n",
       "      <td>\"Roll With It\"</td>\n",
       "      <td>You gotta roll with itYou gotta take your timeYou gotta say what you sayDon't let anybody get in your way'Cause it's all too much for me to takeDon't ever stand asideDon't ever be deniedYou wanna be who you'd beIf you're coming with meI think I've got a feeling I've lost insideI think I'm gonna take me away and hideI'm thinking of things that I just can't abideI know the roads down which your life will drive (Life will drive)I'll find the key that lets you slip inside (Slip inside)Kiss the girl, she's not behind the door (Behind the door)But you know I think I recognize your faceBut I've never seen you beforeYou've gotta roll with itYou've gotta take your timeYou gotta say what you sayDon't let anybody get in your way'Cause it's all too much for me to takeI know the roads down which your life will drive (Life will drive)I'll find the key that lets you slip inside (Slip inside)Kiss the girl, she's not behind the door (Behind the door)But you know I think I recognize your faceBut I've never seen you beforeYou gotta roll with itYou gotta take your timeYou gotta say what you sayDon't let anybody get in your way'Cause it's all too much for me to takeDon't ever stand asideDon't ever be deniedYou wanna be who you'd beIf you're coming with meI think I've got a feeling I've lost inside (Take me away)I think I've got a feeling I've lost inside (Take me away)I think I've got a feeling I've lost inside (Take me away)I think I've got a feeling I've lost inside (Take me away)I think I've got a feeling I've lost inside (Take me away)I think I've got a feeling I've lost inside (Take me away)I think I've got a feeling I've lost inside (Take me away)I think I've got a feeling I've lost inside (Take me away)I think I've got a feeling I've lost inside (Take me away)I think I've got a feeling I've lost inside (Take me away)I think I've got a feeling I've lost inside (Take me away)</td>\n",
       "    </tr>\n",
       "  </tbody>\n",
       "</table>\n",
       "</div>"
      ],
      "text/plain": [
       "  Artist             Title  \\\n",
       "0  Oasis  \"Some Might Say\"   \n",
       "1  Oasis  \"Some Might Say\"   \n",
       "2  Oasis           \"Hello\"   \n",
       "3  Oasis    \"Roll With It\"   \n",
       "\n",
       "                                                                                                                                                                                                                                                                                                                                                                                                                                                                                                                                                                                                                                                                                                                                                                                                                                                                                                                                                                                                                                                                                                                                                                                                                                                                                                                                                                                                                                                                                                                                                                                                                                                                                                                                                                                                                                                                                                                                                                  Lyrics  \n",
       "0                                                                                                                                                                                                                                                                                                                                                      Some might say that sunshine follows thunderGo and tell it to the man who cannot shineSome might say that we should never ponderOn our thoughts today 'cause they hold sway over timeSome might say we will find a brighter daySome might say we will find a brighter day'Cause I've been standing at the stationIn need of education in the rainYou made no preparationFor my reputation once againThe sink is full of fishesShe's got dirty dishes on the brainIt was overflowing gentlyBut it's all elementary my friendSome might say they don't believe in heavenGo and tell it to the man who lives in hellSome might say you get what you've been givenIf you don't get yours I won't get mine as wellSome might say we will find a brighter daySome might say we will find a brighter day'Cause I've been standing at the stationIn need of education in the rainThat made no preparationFor my reputation once againThe sink is full of fishesShe's got dirty dishes on the brainAnd my dog's been itchingItching in the kitchen once againSome might say (Some might say)Some might say (Some might say)You know what some might say (You know what some might say)You know what some might say (You know what some might say)You know what some might say (You know what some might say)You know what some might say (You know what some might say)You know what some might say (You know what some might say)You know what some might say (You know what some might say)You know what some might say (You know what some might say)You know what some might say (You know what some might say)(Woo!)   \n",
       "1                                                                                                                                                                                                                                                                                                                                                      Some might say that sunshine follows thunderGo and tell it to the man who cannot shineSome might say that we should never ponderOn our thoughts today 'cause they hold sway over timeSome might say we will find a brighter daySome might say we will find a brighter day'Cause I've been standing at the stationIn need of education in the rainYou made no preparationFor my reputation once againThe sink is full of fishesShe's got dirty dishes on the brainIt was overflowing gentlyBut it's all elementary my friendSome might say they don't believe in heavenGo and tell it to the man who lives in hellSome might say you get what you've been givenIf you don't get yours I won't get mine as wellSome might say we will find a brighter daySome might say we will find a brighter day'Cause I've been standing at the stationIn need of education in the rainThat made no preparationFor my reputation once againThe sink is full of fishesShe's got dirty dishes on the brainAnd my dog's been itchingItching in the kitchen once againSome might say (Some might say)Some might say (Some might say)You know what some might say (You know what some might say)You know what some might say (You know what some might say)You know what some might say (You know what some might say)You know what some might say (You know what some might say)You know what some might say (You know what some might say)You know what some might say (You know what some might say)You know what some might say (You know what some might say)You know what some might say (You know what some might say)(Woo!)   \n",
       "2                                                                                                                                                                                                                                                                                                                                                                                                                                                                                                                                                                                                                                                                                                                                                                                                                                  I don't feel as if I know youYou take up all my timeThe days are long and the nights will throw you away'Cause the sun don't shineNobody ever mentions the weatherCan make or break your dayNobody ever seems to rememberLife is a game we playWe live in the shadows and weHad the chance and threw it awayAnd it's never gonna be the same'Cause the years are falling by like the rainIt's never gonna be the same'Til the life I knew comes to my house and saysHelloThere ain't no sense in feeling lonelyYou got no faith in youBut I've got a feeling you still owe meSo wipe the shit from your shoesNobody ever mentions the weatherCan make or break your dayNobody ever seems to rememberLife is a game we playWe live in the shadows and weHad the chance and threw it awayAnd it's never gonna be the same'Cause the years are falling by like the rainIt's never gonna be the same'Til the life I knew comes to my house and saysHello, helloIt's good to be back, it's good to be backHello, helloIt's good to be back, it's good to be backHello, helloIt's good to be back, it's good to be backHello, hello, hello   \n",
       "3  You gotta roll with itYou gotta take your timeYou gotta say what you sayDon't let anybody get in your way'Cause it's all too much for me to takeDon't ever stand asideDon't ever be deniedYou wanna be who you'd beIf you're coming with meI think I've got a feeling I've lost insideI think I'm gonna take me away and hideI'm thinking of things that I just can't abideI know the roads down which your life will drive (Life will drive)I'll find the key that lets you slip inside (Slip inside)Kiss the girl, she's not behind the door (Behind the door)But you know I think I recognize your faceBut I've never seen you beforeYou've gotta roll with itYou've gotta take your timeYou gotta say what you sayDon't let anybody get in your way'Cause it's all too much for me to takeI know the roads down which your life will drive (Life will drive)I'll find the key that lets you slip inside (Slip inside)Kiss the girl, she's not behind the door (Behind the door)But you know I think I recognize your faceBut I've never seen you beforeYou gotta roll with itYou gotta take your timeYou gotta say what you sayDon't let anybody get in your way'Cause it's all too much for me to takeDon't ever stand asideDon't ever be deniedYou wanna be who you'd beIf you're coming with meI think I've got a feeling I've lost inside (Take me away)I think I've got a feeling I've lost inside (Take me away)I think I've got a feeling I've lost inside (Take me away)I think I've got a feeling I've lost inside (Take me away)I think I've got a feeling I've lost inside (Take me away)I think I've got a feeling I've lost inside (Take me away)I think I've got a feeling I've lost inside (Take me away)I think I've got a feeling I've lost inside (Take me away)I think I've got a feeling I've lost inside (Take me away)I think I've got a feeling I've lost inside (Take me away)I think I've got a feeling I've lost inside (Take me away)   "
      ]
     },
     "execution_count": 72,
     "metadata": {},
     "output_type": "execute_result"
    }
   ],
   "source": [
    "banana_tree(\"https://www.azlyrics.com/lyrics/oasis/somemightsay.html\", \"https://www.azlyrics.com/lyrics/oasis/hello.html\", \"https://www.azlyrics.com/lyrics/oasis/rollwithit.html\")"
   ]
  }
 ],
 "metadata": {
  "kernelspec": {
   "display_name": "Python 3 (ipykernel)",
   "language": "python",
   "name": "python3"
  },
  "language_info": {
   "codemirror_mode": {
    "name": "ipython",
    "version": 3
   },
   "file_extension": ".py",
   "mimetype": "text/x-python",
   "name": "python",
   "nbconvert_exporter": "python",
   "pygments_lexer": "ipython3",
   "version": "3.9.13"
  }
 },
 "nbformat": 4,
 "nbformat_minor": 5
}
